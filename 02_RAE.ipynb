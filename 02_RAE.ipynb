{
 "cells": [
  {
   "cell_type": "markdown",
   "metadata": {},
   "source": [
    "# __[ LG Energy Solution ] <br><br>Anomaly Detection Part2: Recurrunt Auto-Encoder__"
   ]
  },
  {
   "cell_type": "markdown",
   "metadata": {},
   "source": [
    "# <br>__1. Data: NASA Bearing Dataset__"
   ]
  },
  {
   "cell_type": "code",
   "execution_count": null,
   "metadata": {},
   "outputs": [],
   "source": [
    "# github에서 데이터 불러오기\n",
    "!git clone https://github.com/hj-choi-95/Anomaly_Detection_Part2.git"
   ]
  },
  {
   "cell_type": "code",
   "execution_count": 1,
   "metadata": {},
   "outputs": [],
   "source": [
    "import pandas as pd\n",
    "import numpy as np\n",
    "import seaborn as sns\n",
    "import matplotlib.pyplot as plt\n",
    "from sklearn.preprocessing import MinMaxScaler"
   ]
  },
  {
   "cell_type": "markdown",
   "metadata": {},
   "source": [
    "### Step1. 데이터 불러오기"
   ]
  },
  {
   "cell_type": "code",
   "execution_count": 2,
   "metadata": {
    "scrolled": true
   },
   "outputs": [
    {
     "data": {
      "text/html": [
       "<div>\n",
       "<style scoped>\n",
       "    .dataframe tbody tr th:only-of-type {\n",
       "        vertical-align: middle;\n",
       "    }\n",
       "\n",
       "    .dataframe tbody tr th {\n",
       "        vertical-align: top;\n",
       "    }\n",
       "\n",
       "    .dataframe thead th {\n",
       "        text-align: right;\n",
       "    }\n",
       "</style>\n",
       "<table border=\"1\" class=\"dataframe\">\n",
       "  <thead>\n",
       "    <tr style=\"text-align: right;\">\n",
       "      <th></th>\n",
       "      <th>Bearing 1</th>\n",
       "      <th>Bearing 2</th>\n",
       "      <th>Bearing 3</th>\n",
       "      <th>Bearing 4</th>\n",
       "      <th>anomaly</th>\n",
       "      <th>data_type</th>\n",
       "    </tr>\n",
       "  </thead>\n",
       "  <tbody>\n",
       "    <tr>\n",
       "      <th>2004-02-12 10:32:39</th>\n",
       "      <td>0.058332</td>\n",
       "      <td>0.071832</td>\n",
       "      <td>0.083244</td>\n",
       "      <td>0.043065</td>\n",
       "      <td>0</td>\n",
       "      <td>train</td>\n",
       "    </tr>\n",
       "    <tr>\n",
       "      <th>2004-02-12 10:42:39</th>\n",
       "      <td>0.058997</td>\n",
       "      <td>0.074008</td>\n",
       "      <td>0.084439</td>\n",
       "      <td>0.044540</td>\n",
       "      <td>0</td>\n",
       "      <td>train</td>\n",
       "    </tr>\n",
       "    <tr>\n",
       "      <th>2004-02-12 10:52:39</th>\n",
       "      <td>0.060239</td>\n",
       "      <td>0.074223</td>\n",
       "      <td>0.083922</td>\n",
       "      <td>0.044442</td>\n",
       "      <td>0</td>\n",
       "      <td>train</td>\n",
       "    </tr>\n",
       "    <tr>\n",
       "      <th>2004-02-12 11:02:39</th>\n",
       "      <td>0.061453</td>\n",
       "      <td>0.073843</td>\n",
       "      <td>0.084462</td>\n",
       "      <td>0.045081</td>\n",
       "      <td>0</td>\n",
       "      <td>train</td>\n",
       "    </tr>\n",
       "    <tr>\n",
       "      <th>2004-02-12 11:12:39</th>\n",
       "      <td>0.061361</td>\n",
       "      <td>0.075606</td>\n",
       "      <td>0.082837</td>\n",
       "      <td>0.045118</td>\n",
       "      <td>0</td>\n",
       "      <td>train</td>\n",
       "    </tr>\n",
       "  </tbody>\n",
       "</table>\n",
       "</div>"
      ],
      "text/plain": [
       "                     Bearing 1  Bearing 2  Bearing 3  Bearing 4  anomaly  \\\n",
       "2004-02-12 10:32:39   0.058332   0.071832   0.083244   0.043065        0   \n",
       "2004-02-12 10:42:39   0.058997   0.074008   0.084439   0.044540        0   \n",
       "2004-02-12 10:52:39   0.060239   0.074223   0.083922   0.044442        0   \n",
       "2004-02-12 11:02:39   0.061453   0.073843   0.084462   0.045081        0   \n",
       "2004-02-12 11:12:39   0.061361   0.075606   0.082837   0.045118        0   \n",
       "\n",
       "                    data_type  \n",
       "2004-02-12 10:32:39     train  \n",
       "2004-02-12 10:42:39     train  \n",
       "2004-02-12 10:52:39     train  \n",
       "2004-02-12 11:02:39     train  \n",
       "2004-02-12 11:12:39     train  "
      ]
     },
     "execution_count": 2,
     "metadata": {},
     "output_type": "execute_result"
    }
   ],
   "source": [
    "# 데이터 불러오기\n",
    "data = pd.read_csv('/content/Anomaly_Detection_Part2/data/nasa_bearing_dataset.csv', index_col=0)\n",
    "data.index = pd.to_datetime(data.index)\n",
    "data.head()"
   ]
  },
  {
   "cell_type": "markdown",
   "metadata": {},
   "source": [
    "### Step2. 데이터 Split"
   ]
  },
  {
   "cell_type": "code",
   "execution_count": 3,
   "metadata": {},
   "outputs": [
    {
     "name": "stdout",
     "output_type": "stream",
     "text": [
      "Training data shape: (492, 4)\n",
      "Test data shape: (492, 4)\n"
     ]
    }
   ],
   "source": [
    "X_train = data[data['data_type'] == 'train'].iloc[:, :4]\n",
    "y_train = data[data['data_type'] == 'train'].iloc[:, -2].values\n",
    "\n",
    "X_test = data[data['data_type'] == 'test'].iloc[:, :4]\n",
    "y_test = data[data['data_type'] == 'test'].iloc[:, -2].values\n",
    "\n",
    "print(\"Training data shape:\", X_train.shape)\n",
    "print(\"Test data shape:\", X_test.shape)"
   ]
  },
  {
   "cell_type": "markdown",
   "metadata": {},
   "source": [
    "### Step3. 데이터 정규화"
   ]
  },
  {
   "cell_type": "code",
   "execution_count": 4,
   "metadata": {},
   "outputs": [],
   "source": [
    "# train 데이터를 기반으로 train/test 데이터에 대하여 min-max scaling 적용 \n",
    "scaler = MinMaxScaler()\n",
    "scaler = scaler.fit(X_train)"
   ]
  },
  {
   "cell_type": "code",
   "execution_count": 5,
   "metadata": {},
   "outputs": [],
   "source": [
    "X_train = scaler.transform(X_train)\n",
    "X_test = scaler.transform(X_test)"
   ]
  },
  {
   "cell_type": "markdown",
   "metadata": {},
   "source": [
    "---"
   ]
  },
  {
   "cell_type": "markdown",
   "metadata": {},
   "source": [
    "# __<br>2. Recurrent Auto-Encoder__"
   ]
  },
  {
   "cell_type": "markdown",
   "metadata": {},
   "source": [
    "### Recurrent Auto-Encoder\n",
    ">입력과 출력이 동일한 인공신경망 구조 <br>\n",
    ">정상 데이터에 대한 학습이 충분히 되어 있을 경우 정상 데이터는 자기 자신을 잘 복원할 수 있지만, 이상치 제이터는 학습 기회가 적어 상대적으로 잘 복원하지 못할 것을 가정"
   ]
  },
  {
   "cell_type": "markdown",
   "metadata": {},
   "source": [
    "<img src=\"https://i.imgur.com/KpyS57D.jpg\" width=\"700\">"
   ]
  },
  {
   "cell_type": "code",
   "execution_count": 6,
   "metadata": {},
   "outputs": [],
   "source": [
    "import random\n",
    "import numpy as np\n",
    "\n",
    "from sklearn.metrics import confusion_matrix\n",
    "from sklearn.metrics import f1_score\n",
    "\n",
    "import torch\n",
    "import torch.nn as nn\n",
    "import torch.nn.functional as F\n",
    "import torchvision\n",
    "import torchvision.transforms as transforms\n",
    "\n",
    "from torch.utils.data import Dataset\n",
    "from torch.utils.data import DataLoader"
   ]
  },
  {
   "cell_type": "code",
   "execution_count": 7,
   "metadata": {},
   "outputs": [],
   "source": [
    "# hyper-parameter 설정\n",
    "seq_len = 5\n",
    "input_size = 4\n",
    "hidden_size = 2\n",
    "\n",
    "num_epochs = 20\n",
    "batch_size = 32\n",
    "learning_rate = 0.001\n",
    "\n",
    "random_seed = 42\n",
    "device = torch.device(\"cuda:0\" if torch.cuda.is_available() else \"cpu\") # Detect if we have a GPU available"
   ]
  },
  {
   "cell_type": "code",
   "execution_count": 8,
   "metadata": {},
   "outputs": [],
   "source": [
    "# seed 고정\n",
    "torch.manual_seed(random_seed)\n",
    "torch.cuda.manual_seed(random_seed)\n",
    "torch.backends.cudnn.deterministic = True\n",
    "torch.backends.cudnn.benchmark = False\n",
    "np.random.seed(random_seed)\n",
    "random.seed(random_seed)"
   ]
  },
  {
   "cell_type": "markdown",
   "metadata": {},
   "source": [
    "### Step 1. DataLoader 만들기 (Custom dataset)"
   ]
  },
  {
   "cell_type": "code",
   "execution_count": 9,
   "metadata": {},
   "outputs": [],
   "source": [
    "class RAE_CustomDataset(Dataset): \n",
    "    def __init__(self, data, seq_len):\n",
    "        self.data = data\n",
    "        self.seq_len = seq_len\n",
    "        self.start_point = range(0, len(data) - seq_len)\n",
    "\n",
    "    # 총 데이터의 개수를 리턴\n",
    "    def __len__(self): \n",
    "        return len(self.start_point)\n",
    "\n",
    "    # 인덱스를 입력받아 그에 맵핑되는 입출력 데이터를 파이토치의 Tensor 형태로 리턴\n",
    "    def __getitem__(self, idx):\n",
    "        x = torch.FloatTensor(self.data[self.start_point[idx]:self.start_point[idx] + self.seq_len]) # shape: (batch_size, seq_len, n_features)\n",
    "        return x"
   ]
  },
  {
   "cell_type": "code",
   "execution_count": 10,
   "metadata": {},
   "outputs": [],
   "source": [
    "rae_train_dataset = RAE_CustomDataset(X_train, seq_len)\n",
    "rae_train_loader = DataLoader(rae_train_dataset, batch_size=batch_size, shuffle=True)\n",
    "\n",
    "rae_test_dataset = RAE_CustomDataset(X_test, seq_len)\n",
    "rae_test_loader = DataLoader(rae_test_dataset, batch_size=batch_size, shuffle=False)"
   ]
  },
  {
   "cell_type": "markdown",
   "metadata": {},
   "source": [
    "### Step 2. 모델 구축"
   ]
  },
  {
   "cell_type": "code",
   "execution_count": 11,
   "metadata": {},
   "outputs": [],
   "source": [
    "class RecurrentAutoEncoder(nn.Module):\n",
    "    def __init__(self, input_size, hidden_size, seq_len):\n",
    "        super(RecurrentAutoEncoder, self).__init__()\n",
    "        self.seq_len = seq_len\n",
    "        \n",
    "        self.encoder = nn.LSTM(\n",
    "            input_size = input_size,\n",
    "            hidden_size = hidden_size,\n",
    "            num_layers = 1,\n",
    "            batch_first=True\n",
    "        )\n",
    "        self.decoder = nn.LSTM(\n",
    "            input_size = hidden_size,\n",
    "            hidden_size = 2 * hidden_size,\n",
    "            num_layers = 1,\n",
    "            batch_first = True\n",
    "        )\n",
    "        self.fc = nn.Linear(2 * hidden_size, input_size)\n",
    "                \n",
    "    def forward(self, x):\n",
    "        enc_x, (enc_hidden_state, enc_cell_state) = self.encoder(x)\n",
    "        enc_last_hidden = enc_hidden_state[-1, :, :]\n",
    "        \n",
    "        enc_last_hidden = enc_last_hidden.unsqueeze(1).repeat(1, self.seq_len, 1)\n",
    "        dec_x, (dec_hidden_state, dec_cell_state) = self.decoder(enc_last_hidden)\n",
    "        dec_x = dec_x.reshape((x.size(0), self.seq_len, -1))\n",
    "        \n",
    "        out = self.fc(dec_x)\n",
    "        out = F.sigmoid(out)\n",
    "        return out"
   ]
  },
  {
   "cell_type": "code",
   "execution_count": 12,
   "metadata": {},
   "outputs": [],
   "source": [
    "rae_model = RecurrentAutoEncoder(input_size, hidden_size, seq_len)"
   ]
  },
  {
   "cell_type": "markdown",
   "metadata": {},
   "source": [
    "### Step 3. Train 데이터로 모델 학습"
   ]
  },
  {
   "cell_type": "code",
   "execution_count": 13,
   "metadata": {
    "scrolled": true
   },
   "outputs": [],
   "source": [
    "# model 학습\n",
    "def train_model(data_loader, model, criterion, num_epochs, learning_rate, device):\n",
    "    model = model.to(device)\n",
    "    optimizer = torch.optim.Adam(model.parameters(), lr=learning_rate)\n",
    "    \n",
    "    model.train()\n",
    "    for epoch in range(num_epochs):\n",
    "        for i, x in enumerate(data_loader):\n",
    "            x = x.to(device)\n",
    "            \n",
    "            # Forward pass\n",
    "            outputs = model(x)\n",
    "            loss = criterion(outputs, x)\n",
    "\n",
    "            # Backward and optimize\n",
    "            optimizer.zero_grad()\n",
    "            loss.backward()\n",
    "            optimizer.step()\n",
    "\n",
    "            if (i+1) % 5 == 0:\n",
    "                print ('Epoch [{}/{}], Step [{}/{}], Loss: {:.4f}' \n",
    "                       .format(epoch + 1, num_epochs, i + 1, len(data_loader), loss.item()))\n",
    "    \n",
    "    return model"
   ]
  },
  {
   "cell_type": "code",
   "execution_count": 14,
   "metadata": {
    "scrolled": true
   },
   "outputs": [
    {
     "name": "stderr",
     "output_type": "stream",
     "text": [
      "/Users/heejeongchoi/miniconda3/envs/dsba/lib/python3.6/site-packages/torch/nn/functional.py:1709: UserWarning: nn.functional.sigmoid is deprecated. Use torch.sigmoid instead.\n",
      "  warnings.warn(\"nn.functional.sigmoid is deprecated. Use torch.sigmoid instead.\")\n"
     ]
    },
    {
     "name": "stdout",
     "output_type": "stream",
     "text": [
      "Epoch [1/20], Step [5/16], Loss: 0.0395\n",
      "Epoch [1/20], Step [10/16], Loss: 0.0378\n",
      "Epoch [1/20], Step [15/16], Loss: 0.0359\n",
      "Epoch [2/20], Step [5/16], Loss: 0.0405\n",
      "Epoch [2/20], Step [10/16], Loss: 0.0330\n",
      "Epoch [2/20], Step [15/16], Loss: 0.0371\n",
      "Epoch [3/20], Step [5/16], Loss: 0.0373\n",
      "Epoch [3/20], Step [10/16], Loss: 0.0414\n",
      "Epoch [3/20], Step [15/16], Loss: 0.0384\n",
      "Epoch [4/20], Step [5/16], Loss: 0.0370\n",
      "Epoch [4/20], Step [10/16], Loss: 0.0375\n",
      "Epoch [4/20], Step [15/16], Loss: 0.0393\n",
      "Epoch [5/20], Step [5/16], Loss: 0.0357\n",
      "Epoch [5/20], Step [10/16], Loss: 0.0332\n",
      "Epoch [5/20], Step [15/16], Loss: 0.0366\n",
      "Epoch [6/20], Step [5/16], Loss: 0.0362\n",
      "Epoch [6/20], Step [10/16], Loss: 0.0309\n",
      "Epoch [6/20], Step [15/16], Loss: 0.0319\n",
      "Epoch [7/20], Step [5/16], Loss: 0.0355\n",
      "Epoch [7/20], Step [10/16], Loss: 0.0351\n",
      "Epoch [7/20], Step [15/16], Loss: 0.0296\n",
      "Epoch [8/20], Step [5/16], Loss: 0.0306\n",
      "Epoch [8/20], Step [10/16], Loss: 0.0313\n",
      "Epoch [8/20], Step [15/16], Loss: 0.0309\n",
      "Epoch [9/20], Step [5/16], Loss: 0.0328\n",
      "Epoch [9/20], Step [10/16], Loss: 0.0303\n",
      "Epoch [9/20], Step [15/16], Loss: 0.0322\n",
      "Epoch [10/20], Step [5/16], Loss: 0.0263\n",
      "Epoch [10/20], Step [10/16], Loss: 0.0336\n",
      "Epoch [10/20], Step [15/16], Loss: 0.0323\n",
      "Epoch [11/20], Step [5/16], Loss: 0.0326\n",
      "Epoch [11/20], Step [10/16], Loss: 0.0311\n",
      "Epoch [11/20], Step [15/16], Loss: 0.0288\n",
      "Epoch [12/20], Step [5/16], Loss: 0.0327\n",
      "Epoch [12/20], Step [10/16], Loss: 0.0275\n",
      "Epoch [12/20], Step [15/16], Loss: 0.0309\n",
      "Epoch [13/20], Step [5/16], Loss: 0.0300\n",
      "Epoch [13/20], Step [10/16], Loss: 0.0356\n",
      "Epoch [13/20], Step [15/16], Loss: 0.0284\n",
      "Epoch [14/20], Step [5/16], Loss: 0.0307\n",
      "Epoch [14/20], Step [10/16], Loss: 0.0313\n",
      "Epoch [14/20], Step [15/16], Loss: 0.0308\n",
      "Epoch [15/20], Step [5/16], Loss: 0.0311\n",
      "Epoch [15/20], Step [10/16], Loss: 0.0310\n",
      "Epoch [15/20], Step [15/16], Loss: 0.0291\n",
      "Epoch [16/20], Step [5/16], Loss: 0.0294\n",
      "Epoch [16/20], Step [10/16], Loss: 0.0284\n",
      "Epoch [16/20], Step [15/16], Loss: 0.0345\n",
      "Epoch [17/20], Step [5/16], Loss: 0.0324\n",
      "Epoch [17/20], Step [10/16], Loss: 0.0282\n",
      "Epoch [17/20], Step [15/16], Loss: 0.0321\n",
      "Epoch [18/20], Step [5/16], Loss: 0.0317\n",
      "Epoch [18/20], Step [10/16], Loss: 0.0282\n",
      "Epoch [18/20], Step [15/16], Loss: 0.0271\n",
      "Epoch [19/20], Step [5/16], Loss: 0.0339\n",
      "Epoch [19/20], Step [10/16], Loss: 0.0287\n",
      "Epoch [19/20], Step [15/16], Loss: 0.0332\n",
      "Epoch [20/20], Step [5/16], Loss: 0.0309\n",
      "Epoch [20/20], Step [10/16], Loss: 0.0264\n",
      "Epoch [20/20], Step [15/16], Loss: 0.0257\n"
     ]
    }
   ],
   "source": [
    "rae_train_criterion = nn.MSELoss()\n",
    "rae_model = train_model(rae_train_loader, rae_model, rae_train_criterion, num_epochs, learning_rate, device)"
   ]
  },
  {
   "cell_type": "markdown",
   "metadata": {},
   "source": [
    "### Step 4. 적합된 모델을 기반으로 train/test 데이터의 anomaly score 도출 (Inference)"
   ]
  },
  {
   "cell_type": "code",
   "execution_count": 15,
   "metadata": {},
   "outputs": [],
   "source": [
    "# model inference\n",
    "def inference_model(data_loader, model, criterion, device):\n",
    "    model = model.to(device)\n",
    "    \n",
    "    model.eval()\n",
    "    with torch.no_grad():\n",
    "        infer_loss = []\n",
    "        for i, x in enumerate(data_loader):\n",
    "            x = x.to(device)\n",
    "            \n",
    "            # Forward pass\n",
    "            output = model(x)\n",
    "            loss = criterion(output, x)\n",
    "            loss = loss.mean(axis=1).mean(axis=1)\n",
    "\n",
    "            infer_loss += list(loss.data.numpy())\n",
    "    infer_loss = np.array(infer_loss).flatten()\n",
    "    return infer_loss"
   ]
  },
  {
   "cell_type": "code",
   "execution_count": 16,
   "metadata": {
    "scrolled": true
   },
   "outputs": [],
   "source": [
    "# train 데이터에 대한 최종 결과 도출\n",
    "rae_infer_criterion = nn.L1Loss(reduction='none')\n",
    "rae_train_loss = inference_model(rae_train_loader, rae_model, rae_infer_criterion, device)\n",
    "rae_test_loss = inference_model(rae_test_loader, rae_model, rae_infer_criterion, device)"
   ]
  },
  {
   "cell_type": "code",
   "execution_count": 17,
   "metadata": {},
   "outputs": [
    {
     "name": "stderr",
     "output_type": "stream",
     "text": [
      "/Users/heejeongchoi/miniconda3/envs/dsba/lib/python3.6/site-packages/seaborn/distributions.py:2551: FutureWarning: `distplot` is a deprecated function and will be removed in a future version. Please adapt your code to use either `displot` (a figure-level function with similar flexibility) or `histplot` (an axes-level function for histograms).\n",
      "  warnings.warn(msg, FutureWarning)\n",
      "/Users/heejeongchoi/miniconda3/envs/dsba/lib/python3.6/site-packages/seaborn/distributions.py:2551: FutureWarning: `distplot` is a deprecated function and will be removed in a future version. Please adapt your code to use either `displot` (a figure-level function with similar flexibility) or `histplot` (an axes-level function for histograms).\n",
      "  warnings.warn(msg, FutureWarning)\n"
     ]
    },
    {
     "data": {
      "text/plain": [
       "Text(0.5, 1.0, 'Test Data')"
      ]
     },
     "execution_count": 17,
     "metadata": {},
     "output_type": "execute_result"
    },
    {
     "data": {
      "image/png": "[encoded data removed]",
      "text/plain": [
       "<Figure size 576x576 with 2 Axes>"
      ]
     },
     "metadata": {
      "needs_background": "light"
     },
     "output_type": "display_data"
    }
   ],
   "source": [
    "# train/test 데이터의 anomaly score 분포 시각화\n",
    "fig, (ax1, ax2) = plt.subplots(nrows=2, ncols=1, figsize = (8, 8))\n",
    "\n",
    "sns.distplot(rae_train_loss, bins=100, kde=True, color='blue', ax=ax1)\n",
    "sns.distplot(rae_test_loss, bins=100, kde=True, color='red', ax=ax2)\n",
    "ax1.set_title(\"Train Data\")\n",
    "ax2.set_title(\"Test Data\")"
   ]
  },
  {
   "cell_type": "markdown",
   "metadata": {},
   "source": [
    "### Step 5. Threshold 탐색"
   ]
  },
  {
   "cell_type": "code",
   "execution_count": 18,
   "metadata": {},
   "outputs": [],
   "source": [
    "# threshold 탐색\n",
    "# score의 min ~ max 범위를 num_step개로 균등 분할한 threshold에 대하여 best threshold 탐색 \n",
    "def search_best_threshold(score, y_true, num_step):\n",
    "    best_f1 = 0\n",
    "    best_threshold = None\n",
    "    for threshold in np.linspace(min(score), max(score), num_step):\n",
    "        y_pred = threshold < score\n",
    "\n",
    "        f1 = f1_score(y_true, y_pred)\n",
    "        if f1 > best_f1:\n",
    "            best_f1 = f1\n",
    "            best_threshold = threshold\n",
    "\n",
    "    print('Best threshold: ', round(best_threshold, 4))\n",
    "    print('Best F1 Score:', round(best_f1, 4))\n",
    "    return best_threshold"
   ]
  },
  {
   "cell_type": "code",
   "execution_count": 19,
   "metadata": {
    "scrolled": false
   },
   "outputs": [
    {
     "name": "stdout",
     "output_type": "stream",
     "text": [
      "Best threshold:  1.2825\n",
      "Best F1 Score: 0.9834\n"
     ]
    }
   ],
   "source": [
    "# best threshold 탐색\n",
    "rae_best_threshold = search_best_threshold(rae_test_loss, y_test[seq_len:], num_step=1000)"
   ]
  },
  {
   "cell_type": "markdown",
   "metadata": {},
   "source": [
    "### Step 6. Best threshold를 기반으로 이상치 탐지 모형 평가"
   ]
  },
  {
   "cell_type": "code",
   "execution_count": 20,
   "metadata": {},
   "outputs": [],
   "source": [
    "train_dates = data[data['data_type'] == 'train'].index[seq_len:]\n",
    "test_dates = data[data['data_type'] == 'test'].index[seq_len:]"
   ]
  },
  {
   "cell_type": "code",
   "execution_count": 21,
   "metadata": {
    "scrolled": true
   },
   "outputs": [
    {
     "data": {
      "text/html": [
       "<div>\n",
       "<style scoped>\n",
       "    .dataframe tbody tr th:only-of-type {\n",
       "        vertical-align: middle;\n",
       "    }\n",
       "\n",
       "    .dataframe tbody tr th {\n",
       "        vertical-align: top;\n",
       "    }\n",
       "\n",
       "    .dataframe thead th {\n",
       "        text-align: right;\n",
       "    }\n",
       "</style>\n",
       "<table border=\"1\" class=\"dataframe\">\n",
       "  <thead>\n",
       "    <tr style=\"text-align: right;\">\n",
       "      <th></th>\n",
       "      <th>score</th>\n",
       "      <th>anomaly</th>\n",
       "    </tr>\n",
       "  </thead>\n",
       "  <tbody>\n",
       "    <tr>\n",
       "      <th>2004-02-12 11:22:39</th>\n",
       "      <td>0.107840</td>\n",
       "      <td>False</td>\n",
       "    </tr>\n",
       "    <tr>\n",
       "      <th>2004-02-12 11:32:39</th>\n",
       "      <td>0.099066</td>\n",
       "      <td>False</td>\n",
       "    </tr>\n",
       "    <tr>\n",
       "      <th>2004-02-12 11:42:39</th>\n",
       "      <td>0.162821</td>\n",
       "      <td>False</td>\n",
       "    </tr>\n",
       "    <tr>\n",
       "      <th>2004-02-12 11:52:39</th>\n",
       "      <td>0.115832</td>\n",
       "      <td>False</td>\n",
       "    </tr>\n",
       "    <tr>\n",
       "      <th>2004-02-12 12:02:39</th>\n",
       "      <td>0.152953</td>\n",
       "      <td>False</td>\n",
       "    </tr>\n",
       "  </tbody>\n",
       "</table>\n",
       "</div>"
      ],
      "text/plain": [
       "                        score  anomaly\n",
       "2004-02-12 11:22:39  0.107840    False\n",
       "2004-02-12 11:32:39  0.099066    False\n",
       "2004-02-12 11:42:39  0.162821    False\n",
       "2004-02-12 11:52:39  0.115832    False\n",
       "2004-02-12 12:02:39  0.152953    False"
      ]
     },
     "execution_count": 21,
     "metadata": {},
     "output_type": "execute_result"
    }
   ],
   "source": [
    "rae_scores = pd.DataFrame(index=list(train_dates) + list(test_dates))\n",
    "rae_scores['score'] = list(np.hstack([rae_train_loss, rae_test_loss]))\n",
    "rae_scores['anomaly'] = rae_best_threshold < rae_scores['score']\n",
    "rae_scores.head()"
   ]
  },
  {
   "cell_type": "code",
   "execution_count": 22,
   "metadata": {
    "scrolled": true
   },
   "outputs": [],
   "source": [
    "# anomaly score plot 도출\n",
    "def draw_plot(scores, threshold):\n",
    "    normal_scores = scores[scores['anomaly'] == False]\n",
    "    abnormal_scores = scores[scores['anomaly'] == True]\n",
    "\n",
    "    plt.figure(figsize = (12,5))\n",
    "    plt.scatter(normal_scores.index, normal_scores['score'], label='Normal', c='blue', s=3)\n",
    "    plt.scatter(abnormal_scores.index, abnormal_scores['score'], label='Abnormal', c='red', s=3)\n",
    "    \n",
    "    plt.axhline(threshold, c='green', alpha=0.7)\n",
    "    plt.axvline(data.index[int(len(data) * 0.5)], c='orange', ls='--')\n",
    "    \n",
    "    plt.xlabel('Date')\n",
    "    plt.ylabel('Anomaly Score')\n",
    "    plt.legend()\n",
    "    \n",
    "    plt.show()"
   ]
  },
  {
   "cell_type": "code",
   "execution_count": 23,
   "metadata": {},
   "outputs": [
    {
     "data": {
      "image/png": "[encoded data removed]",
      "text/plain": [
       "<Figure size 864x360 with 1 Axes>"
      ]
     },
     "metadata": {
      "needs_background": "light"
     },
     "output_type": "display_data"
    }
   ],
   "source": [
    "# 전체 기간의 데이터 분포 확인\n",
    "draw_plot(rae_scores, rae_best_threshold)"
   ]
  },
  {
   "cell_type": "code",
   "execution_count": 24,
   "metadata": {},
   "outputs": [],
   "source": [
    "# FRR, FAR, F1 score 도출\n",
    "def calculate_metric(y_true, y_pred):\n",
    "    cm = confusion_matrix(y_true, y_pred, labels=[True, False])\n",
    "    tp, fn, fp, tn = cm.ravel()\n",
    "    \n",
    "    frr = fp / (fp + tn)\n",
    "    far = fn / (fn + tp) \n",
    "    \n",
    "    f1 = f1_score(y_true, y_pred)\n",
    "    \n",
    "    return frr, far, f1"
   ]
  },
  {
   "cell_type": "code",
   "execution_count": 25,
   "metadata": {
    "scrolled": true
   },
   "outputs": [
    {
     "name": "stdout",
     "output_type": "stream",
     "text": [
      "**  FRR: 0.0524  |  FAR: 0.0  |  F1 Score: 0.9834\n"
     ]
    }
   ],
   "source": [
    "# F1 Score: 0.9834\n",
    "frr, far, f1 = calculate_metric(y_test[seq_len:], rae_scores['anomaly'][test_dates[0]:])\n",
    "\n",
    "print(\"**  FRR: {}  |  FAR: {}  |  F1 Score: {}\".format(round(frr, 4), round(far, 4), round(f1, 4)))"
   ]
  },
  {
   "cell_type": "markdown",
   "metadata": {},
   "source": [
    "---"
   ]
  }
 ],
 "metadata": {
  "kernelspec": {
   "display_name": "Python3 (dsba)",
   "language": "python",
   "name": "dsba"
  },
  "language_info": {
   "codemirror_mode": {
    "name": "ipython",
    "version": 3
   },
   "file_extension": ".py",
   "mimetype": "text/x-python",
   "name": "python",
   "nbconvert_exporter": "python",
   "pygments_lexer": "ipython3",
   "version": "3.6.12"
  }
 },
 "nbformat": 4,
 "nbformat_minor": 4
}
