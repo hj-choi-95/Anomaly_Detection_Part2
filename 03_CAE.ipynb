{
 "cells": [
  {
   "cell_type": "markdown",
   "metadata": {},
   "source": [
    "# __[ LG Energy Solution ] <br><br>Anomaly Detection Part2: Convolutional Auto-Encoder__"
   ]
  },
  {
   "cell_type": "markdown",
   "metadata": {},
   "source": [
    "# __<br>1. Data: MNIST Dataset__"
   ]
  },
  {
   "cell_type": "markdown",
   "metadata": {},
   "source": [
    "- 데이터 description <br>\n",
    "    - MNIST Dataset은 손글씨 데이터로 0 ~ 9에 해당하는 흑백 이미지로 구성되어 있다. <br><br>\n",
    "- 변수 설명\n",
    "    - 이미지: 28 x 28 x 1 차원의 이미지로 픽셀 값을 나타냄"
   ]
  },
  {
   "cell_type": "markdown",
   "metadata": {},
   "source": [
    "<img src=\"https://i.imgur.com/Xo4PDvM.jpg\" width=\"600\">"
   ]
  },
  {
   "cell_type": "code",
   "execution_count": 1,
   "metadata": {},
   "outputs": [],
   "source": [
    "import random\n",
    "import numpy as np\n",
    "import pandas as pd\n",
    "import matplotlib.pyplot as plt\n",
    "import seaborn as sns\n",
    "\n",
    "from sklearn.metrics import confusion_matrix\n",
    "from sklearn.metrics import f1_score\n",
    "\n",
    "import torch\n",
    "import torch.nn as nn\n",
    "import torchvision\n",
    "import torchvision.transforms as transforms\n",
    "from torch.utils.data import DataLoader"
   ]
  },
  {
   "cell_type": "markdown",
   "metadata": {},
   "source": [
    "### Step1. 데이터 불러오기"
   ]
  },
  {
   "cell_type": "code",
   "execution_count": 2,
   "metadata": {
    "scrolled": true
   },
   "outputs": [],
   "source": [
    "# MNIST dataset \n",
    "train_dataset = torchvision.datasets.MNIST(root='./data', \n",
    "                                           train=True, \n",
    "                                           transform=transforms.ToTensor(),\n",
    "                                           download=True)\n",
    "\n",
    "test_dataset = torchvision.datasets.MNIST(root='./data', \n",
    "                                          train=False, \n",
    "                                          transform=transforms.ToTensor())"
   ]
  },
  {
   "cell_type": "markdown",
   "metadata": {},
   "source": [
    "### Step 2. Anomaly Detection 데이터 만들기 (normal: 1, abnormal: 8)"
   ]
  },
  {
   "cell_type": "code",
   "execution_count": 3,
   "metadata": {},
   "outputs": [],
   "source": [
    "# train data: Class = 1인 train 데이터셋\n",
    "train_dataset = [train_dataset.__getitem__(idx) for idx in range(len(train_dataset)) \\\n",
    "                 if train_dataset.__getitem__(idx)[1] == 1]"
   ]
  },
  {
   "cell_type": "code",
   "execution_count": 4,
   "metadata": {},
   "outputs": [],
   "source": [
    "# test normal data: Class = 1인 test 데이터셋\n",
    "test_normal_dataset = [test_dataset.__getitem__(idx) for idx in range(len(test_dataset)) \\\n",
    "                       if test_dataset.__getitem__(idx)[1] == 1]"
   ]
  },
  {
   "cell_type": "code",
   "execution_count": 5,
   "metadata": {},
   "outputs": [],
   "source": [
    "# test abnormal data: Class = 8인 test 데이터셋\n",
    "test_abnormal_dataset = [test_dataset.__getitem__(idx) for idx in range(len(test_dataset)) \\\n",
    "                         if test_dataset.__getitem__(idx)[1] == 8]"
   ]
  },
  {
   "cell_type": "code",
   "execution_count": 6,
   "metadata": {},
   "outputs": [],
   "source": [
    "test_dataset = test_normal_dataset + test_abnormal_dataset"
   ]
  },
  {
   "cell_type": "code",
   "execution_count": 7,
   "metadata": {},
   "outputs": [],
   "source": [
    "# test 데이터에 대하여 label이 1이면 normal, 나머지에 해당하면 abnormal에 해당하는 정답 생성\n",
    "y_test = [False if label == 1 else True for _, label in test_dataset]"
   ]
  },
  {
   "cell_type": "markdown",
   "metadata": {},
   "source": [
    "### Step 3. DataLoader 만들기 (Benchmark Dataset)"
   ]
  },
  {
   "cell_type": "code",
   "execution_count": 8,
   "metadata": {},
   "outputs": [],
   "source": [
    "# hyper-parameter 설정\n",
    "batch_size = 32"
   ]
  },
  {
   "cell_type": "code",
   "execution_count": 9,
   "metadata": {},
   "outputs": [],
   "source": [
    "train_loader = DataLoader(train_dataset, batch_size=batch_size, shuffle=True)\n",
    "test_loader = DataLoader(test_dataset, batch_size=batch_size, shuffle=False)"
   ]
  },
  {
   "cell_type": "markdown",
   "metadata": {},
   "source": [
    "---"
   ]
  },
  {
   "cell_type": "markdown",
   "metadata": {},
   "source": [
    "# __<br>2-2. Convolutional Auto-Encoder__"
   ]
  },
  {
   "cell_type": "markdown",
   "metadata": {},
   "source": [
    "### Convolutional Auto-Encoder\n",
    ">입력과 출력이 동일한 인공신경망 구조 <br>\n",
    ">정상 데이터에 대한 학습이 충분히 되어 있을 경우 정상 데이터는 자기 자신을 잘 복원할 수 있지만, 이상치 제이터는 학습 기회가 적어 상대적으로 잘 복원하지 못할 것을 가정"
   ]
  },
  {
   "cell_type": "markdown",
   "metadata": {},
   "source": [
    "<img src=\"https://i.imgur.com/9iZyuGm.jpg\" width=\"700\">"
   ]
  },
  {
   "cell_type": "code",
   "execution_count": 10,
   "metadata": {},
   "outputs": [],
   "source": [
    "# hyper-parameter 설정\n",
    "num_epochs = 20\n",
    "learning_rate = 0.001\n",
    "\n",
    "random_seed = 42\n",
    "device = torch.device(\"cuda:0\" if torch.cuda.is_available() else \"cpu\") # Detect if we have a GPU available"
   ]
  },
  {
   "cell_type": "code",
   "execution_count": 11,
   "metadata": {},
   "outputs": [],
   "source": [
    "# seed 고정\n",
    "torch.manual_seed(random_seed)\n",
    "torch.cuda.manual_seed(random_seed)\n",
    "torch.backends.cudnn.deterministic = True\n",
    "torch.backends.cudnn.benchmark = False\n",
    "np.random.seed(random_seed)\n",
    "random.seed(random_seed)"
   ]
  },
  {
   "cell_type": "markdown",
   "metadata": {},
   "source": [
    "### Step 1. 모델 구축"
   ]
  },
  {
   "cell_type": "code",
   "execution_count": 12,
   "metadata": {},
   "outputs": [],
   "source": [
    "class ConvolutionalAutoEncoder(nn.Module):\n",
    "    def __init__(self):\n",
    "        super(ConvolutionalAutoEncoder, self).__init__()\n",
    "        self.encoder = nn.Sequential(\n",
    "          nn.Conv2d(1, 8, kernel_size=3),\n",
    "          nn.ReLU(),\n",
    "          nn.Conv2d(8, 16, kernel_size=3),\n",
    "          nn.ReLU()\n",
    "        )\n",
    "\n",
    "        self.decoder = nn.Sequential(\n",
    "          nn.ConvTranspose2d(16, 8, kernel_size=3),\n",
    "          nn.ReLU(),\n",
    "          nn.ConvTranspose2d(8, 1, kernel_size=3)\n",
    "        )\n",
    "    \n",
    "    def forward(self, x):\n",
    "        out = self.encoder(x)\n",
    "        out = self.decoder(out)\n",
    "        out = torch.sigmoid(out)\n",
    "        return out"
   ]
  },
  {
   "cell_type": "code",
   "execution_count": 13,
   "metadata": {},
   "outputs": [],
   "source": [
    "cae_model = ConvolutionalAutoEncoder()"
   ]
  },
  {
   "cell_type": "markdown",
   "metadata": {},
   "source": [
    "### Step 2. Train 데이터로 모델 학습"
   ]
  },
  {
   "cell_type": "code",
   "execution_count": 14,
   "metadata": {
    "scrolled": true
   },
   "outputs": [],
   "source": [
    "# model 학습\n",
    "def train_model(data_loader, model, criterion, num_epochs, learning_rate, device):\n",
    "    model = model.to(device)\n",
    "    optimizer = torch.optim.Adam(model.parameters(), lr=learning_rate)\n",
    "    \n",
    "    model.train()\n",
    "    for epoch in range(num_epochs):\n",
    "        for i, (x, _) in enumerate(data_loader):\n",
    "            x = x.to(device)\n",
    "            \n",
    "            # Forward pass\n",
    "            outputs = model(x)\n",
    "            loss = criterion(outputs, x)\n",
    "\n",
    "            # Backward and optimize\n",
    "            optimizer.zero_grad()\n",
    "            loss.backward()\n",
    "            optimizer.step()\n",
    "\n",
    "            if (i+1) % 50 == 0:\n",
    "                print ('Epoch [{}/{}], Step [{}/{}], Loss: {:.4f}' \n",
    "                       .format(epoch + 1, num_epochs, i + 1, len(data_loader), loss.item()))\n",
    "    \n",
    "    return model"
   ]
  },
  {
   "cell_type": "code",
   "execution_count": 15,
   "metadata": {
    "scrolled": true
   },
   "outputs": [
    {
     "name": "stderr",
     "output_type": "stream",
     "text": [
      "/Users/heejeongchoi/miniconda3/envs/dsba/lib/python3.6/site-packages/torch/nn/functional.py:1709: UserWarning: nn.functional.sigmoid is deprecated. Use torch.sigmoid instead.\n",
      "  warnings.warn(\"nn.functional.sigmoid is deprecated. Use torch.sigmoid instead.\")\n"
     ]
    },
    {
     "name": "stdout",
     "output_type": "stream",
     "text": [
      "Epoch [1/20], Step [50/211], Loss: 0.0518\n",
      "Epoch [1/20], Step [100/211], Loss: 0.0093\n",
      "Epoch [1/20], Step [150/211], Loss: 0.0040\n",
      "Epoch [1/20], Step [200/211], Loss: 0.0023\n",
      "Epoch [2/20], Step [50/211], Loss: 0.0016\n",
      "Epoch [2/20], Step [100/211], Loss: 0.0011\n",
      "Epoch [2/20], Step [150/211], Loss: 0.0008\n",
      "Epoch [2/20], Step [200/211], Loss: 0.0007\n",
      "Epoch [3/20], Step [50/211], Loss: 0.0006\n",
      "Epoch [3/20], Step [100/211], Loss: 0.0005\n",
      "Epoch [3/20], Step [150/211], Loss: 0.0005\n",
      "Epoch [3/20], Step [200/211], Loss: 0.0005\n",
      "Epoch [4/20], Step [50/211], Loss: 0.0003\n",
      "Epoch [4/20], Step [100/211], Loss: 0.0003\n",
      "Epoch [4/20], Step [150/211], Loss: 0.0003\n",
      "Epoch [4/20], Step [200/211], Loss: 0.0003\n",
      "Epoch [5/20], Step [50/211], Loss: 0.0004\n",
      "Epoch [5/20], Step [100/211], Loss: 0.0003\n",
      "Epoch [5/20], Step [150/211], Loss: 0.0003\n",
      "Epoch [5/20], Step [200/211], Loss: 0.0002\n",
      "Epoch [6/20], Step [50/211], Loss: 0.0002\n",
      "Epoch [6/20], Step [100/211], Loss: 0.0002\n",
      "Epoch [6/20], Step [150/211], Loss: 0.0002\n",
      "Epoch [6/20], Step [200/211], Loss: 0.0002\n",
      "Epoch [7/20], Step [50/211], Loss: 0.0002\n",
      "Epoch [7/20], Step [100/211], Loss: 0.0002\n",
      "Epoch [7/20], Step [150/211], Loss: 0.0002\n",
      "Epoch [7/20], Step [200/211], Loss: 0.0002\n",
      "Epoch [8/20], Step [50/211], Loss: 0.0002\n",
      "Epoch [8/20], Step [100/211], Loss: 0.0002\n",
      "Epoch [8/20], Step [150/211], Loss: 0.0001\n",
      "Epoch [8/20], Step [200/211], Loss: 0.0002\n",
      "Epoch [9/20], Step [50/211], Loss: 0.0002\n",
      "Epoch [9/20], Step [100/211], Loss: 0.0002\n",
      "Epoch [9/20], Step [150/211], Loss: 0.0002\n",
      "Epoch [9/20], Step [200/211], Loss: 0.0001\n",
      "Epoch [10/20], Step [50/211], Loss: 0.0001\n",
      "Epoch [10/20], Step [100/211], Loss: 0.0002\n",
      "Epoch [10/20], Step [150/211], Loss: 0.0001\n",
      "Epoch [10/20], Step [200/211], Loss: 0.0003\n",
      "Epoch [11/20], Step [50/211], Loss: 0.0002\n",
      "Epoch [11/20], Step [100/211], Loss: 0.0001\n",
      "Epoch [11/20], Step [150/211], Loss: 0.0002\n",
      "Epoch [11/20], Step [200/211], Loss: 0.0001\n",
      "Epoch [12/20], Step [50/211], Loss: 0.0001\n",
      "Epoch [12/20], Step [100/211], Loss: 0.0001\n",
      "Epoch [12/20], Step [150/211], Loss: 0.0001\n",
      "Epoch [12/20], Step [200/211], Loss: 0.0001\n",
      "Epoch [13/20], Step [50/211], Loss: 0.0001\n",
      "Epoch [13/20], Step [100/211], Loss: 0.0001\n",
      "Epoch [13/20], Step [150/211], Loss: 0.0001\n",
      "Epoch [13/20], Step [200/211], Loss: 0.0001\n",
      "Epoch [14/20], Step [50/211], Loss: 0.0002\n",
      "Epoch [14/20], Step [100/211], Loss: 0.0001\n",
      "Epoch [14/20], Step [150/211], Loss: 0.0001\n",
      "Epoch [14/20], Step [200/211], Loss: 0.0001\n",
      "Epoch [15/20], Step [50/211], Loss: 0.0001\n",
      "Epoch [15/20], Step [100/211], Loss: 0.0001\n",
      "Epoch [15/20], Step [150/211], Loss: 0.0001\n",
      "Epoch [15/20], Step [200/211], Loss: 0.0001\n",
      "Epoch [16/20], Step [50/211], Loss: 0.0001\n",
      "Epoch [16/20], Step [100/211], Loss: 0.0001\n",
      "Epoch [16/20], Step [150/211], Loss: 0.0001\n",
      "Epoch [16/20], Step [200/211], Loss: 0.0002\n",
      "Epoch [17/20], Step [50/211], Loss: 0.0001\n",
      "Epoch [17/20], Step [100/211], Loss: 0.0001\n",
      "Epoch [17/20], Step [150/211], Loss: 0.0001\n",
      "Epoch [17/20], Step [200/211], Loss: 0.0001\n",
      "Epoch [18/20], Step [50/211], Loss: 0.0001\n",
      "Epoch [18/20], Step [100/211], Loss: 0.0001\n",
      "Epoch [18/20], Step [150/211], Loss: 0.0001\n",
      "Epoch [18/20], Step [200/211], Loss: 0.0001\n",
      "Epoch [19/20], Step [50/211], Loss: 0.0001\n",
      "Epoch [19/20], Step [100/211], Loss: 0.0001\n",
      "Epoch [19/20], Step [150/211], Loss: 0.0001\n",
      "Epoch [19/20], Step [200/211], Loss: 0.0001\n",
      "Epoch [20/20], Step [50/211], Loss: 0.0001\n",
      "Epoch [20/20], Step [100/211], Loss: 0.0001\n",
      "Epoch [20/20], Step [150/211], Loss: 0.0001\n",
      "Epoch [20/20], Step [200/211], Loss: 0.0001\n"
     ]
    }
   ],
   "source": [
    "cae_train_criterion = nn.MSELoss()\n",
    "cae_model = train_model(train_loader, cae_model, cae_train_criterion, num_epochs, learning_rate, device)"
   ]
  },
  {
   "cell_type": "markdown",
   "metadata": {},
   "source": [
    "### Step 3. 적합된 모델을 기반으로 train/test 데이터의 anomaly score 도출 (Inference)"
   ]
  },
  {
   "cell_type": "code",
   "execution_count": 16,
   "metadata": {},
   "outputs": [],
   "source": [
    "# model inference\n",
    "def inference_model(data_loader, model, criterion, device):\n",
    "    model = model.to(device)\n",
    "    \n",
    "    model.eval()\n",
    "    with torch.no_grad():\n",
    "        infer_loss = []\n",
    "        for i, (x, _) in enumerate(data_loader):\n",
    "            x = x.to(device)\n",
    "            \n",
    "            # Forward pass\n",
    "            output = model(x)\n",
    "            loss = criterion(output, x)\n",
    "            loss = loss.reshape(loss.shape[0], -1).mean(axis=1)\n",
    "\n",
    "            infer_loss += list(loss.data.cpu().numpy())\n",
    "    return infer_loss"
   ]
  },
  {
   "cell_type": "code",
   "execution_count": 17,
   "metadata": {
    "scrolled": true
   },
   "outputs": [],
   "source": [
    "# train 데이터에 대한 최종 결과 도출\n",
    "cae_infer_criterion = nn.L1Loss(reduction='none')\n",
    "cae_train_loss = inference_model(train_loader, cae_model, cae_infer_criterion, device)\n",
    "cae_test_loss = inference_model(test_loader, cae_model, cae_infer_criterion, device)"
   ]
  },
  {
   "cell_type": "code",
   "execution_count": 18,
   "metadata": {
    "scrolled": false
   },
   "outputs": [
    {
     "name": "stderr",
     "output_type": "stream",
     "text": [
      "/Users/heejeongchoi/miniconda3/envs/dsba/lib/python3.6/site-packages/seaborn/distributions.py:2551: FutureWarning: `distplot` is a deprecated function and will be removed in a future version. Please adapt your code to use either `displot` (a figure-level function with similar flexibility) or `histplot` (an axes-level function for histograms).\n",
      "  warnings.warn(msg, FutureWarning)\n",
      "/Users/heejeongchoi/miniconda3/envs/dsba/lib/python3.6/site-packages/seaborn/distributions.py:2551: FutureWarning: `distplot` is a deprecated function and will be removed in a future version. Please adapt your code to use either `displot` (a figure-level function with similar flexibility) or `histplot` (an axes-level function for histograms).\n",
      "  warnings.warn(msg, FutureWarning)\n"
     ]
    },
    {
     "data": {
      "text/plain": [
       "Text(0.5, 1.0, 'Test Data')"
      ]
     },
     "execution_count": 18,
     "metadata": {},
     "output_type": "execute_result"
    },
    {
     "data": {
      "image/png": "[encoded data removed]",
      "text/plain": [
       "<Figure size 576x576 with 2 Axes>"
      ]
     },
     "metadata": {
      "needs_background": "light"
     },
     "output_type": "display_data"
    }
   ],
   "source": [
    "# train/test 데이터의 anomaly score 분포 시각화\n",
    "fig, (ax1, ax2) = plt.subplots(nrows=2, ncols=1, figsize = (8, 8))\n",
    "\n",
    "sns.distplot(cae_train_loss, bins=100, kde=True, color='blue', ax=ax1)\n",
    "sns.distplot(cae_test_loss, bins=100, kde=True, color='red', ax=ax2)\n",
    "ax1.set_title(\"Train Data\")\n",
    "ax2.set_title(\"Test Data\")"
   ]
  },
  {
   "cell_type": "markdown",
   "metadata": {},
   "source": [
    "### Step 4. Threshold 탐색"
   ]
  },
  {
   "cell_type": "code",
   "execution_count": 19,
   "metadata": {},
   "outputs": [],
   "source": [
    "# threshold 탐색\n",
    "# score의 min ~ max 범위를 num_step개로 균등 분할한 threshold에 대하여 best threshold 탐색 \n",
    "def search_best_threshold(score, y_true, num_step):\n",
    "    best_f1 = 0\n",
    "    best_threshold = None\n",
    "    for threshold in np.linspace(min(score), max(score), num_step):\n",
    "        y_pred = threshold < score\n",
    "\n",
    "        f1 = f1_score(y_true, y_pred)\n",
    "        if f1 > best_f1:\n",
    "            best_f1 = f1\n",
    "            best_threshold = threshold\n",
    "\n",
    "    print('Best threshold: ', round(best_threshold, 4))\n",
    "    print('Best F1 Score:', round(best_f1, 4))\n",
    "    return best_threshold"
   ]
  },
  {
   "cell_type": "code",
   "execution_count": 20,
   "metadata": {
    "scrolled": true
   },
   "outputs": [
    {
     "name": "stdout",
     "output_type": "stream",
     "text": [
      "Best threshold:  0.0051\n",
      "Best F1 Score: 0.9903\n"
     ]
    }
   ],
   "source": [
    "# best threshold 도출\n",
    "cae_best_threshold = search_best_threshold(cae_test_loss, y_test, num_step=1000)"
   ]
  },
  {
   "cell_type": "markdown",
   "metadata": {},
   "source": [
    "### Step 5. Best threshold를 기반으로 이상치 탐지 모형 평가"
   ]
  },
  {
   "cell_type": "code",
   "execution_count": 21,
   "metadata": {},
   "outputs": [],
   "source": [
    "# FRR, FAR, F1 score 도출\n",
    "def calculate_metric(y_true, y_pred):\n",
    "    cm = confusion_matrix(y_true, y_pred, labels=[True, False])\n",
    "    tp, fn, fp, tn = cm.ravel()\n",
    "    \n",
    "    frr = fp / (fp + tn)\n",
    "    far = fn / (fn + tp) \n",
    "    \n",
    "    f1 = f1_score(y_true, y_pred)\n",
    "    \n",
    "    return frr, far, f1"
   ]
  },
  {
   "cell_type": "code",
   "execution_count": 22,
   "metadata": {},
   "outputs": [
    {
     "name": "stdout",
     "output_type": "stream",
     "text": [
      "**  FRR: 0.0123  |  FAR: 0.0051  |  F1 Score: 0.9903\n"
     ]
    }
   ],
   "source": [
    "# F1 Score: 0.9903\n",
    "cae_y_test_pred = cae_best_threshold < cae_test_loss\n",
    "frr, far, f1 = calculate_metric(y_test, cae_y_test_pred)\n",
    "\n",
    "print(\"**  FRR: {}  |  FAR: {}  |  F1 Score: {}\".format(round(frr, 4), round(far, 4), round(f1, 4)))"
   ]
  },
  {
   "cell_type": "markdown",
   "metadata": {},
   "source": [
    "---"
   ]
  }
 ],
 "metadata": {
  "kernelspec": {
   "display_name": "Python3 (dsba)",
   "language": "python",
   "name": "dsba"
  },
  "language_info": {
   "codemirror_mode": {
    "name": "ipython",
    "version": 3
   },
   "file_extension": ".py",
   "mimetype": "text/x-python",
   "name": "python",
   "nbconvert_exporter": "python",
   "pygments_lexer": "ipython3",
   "version": "3.6.12"
  }
 },
 "nbformat": 4,
 "nbformat_minor": 4
}
